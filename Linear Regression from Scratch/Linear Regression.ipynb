{
 "cells": [
  {
   "cell_type": "markdown",
   "metadata": {},
   "source": [
    "### Importing libraries"
   ]
  },
  {
   "cell_type": "code",
   "execution_count": 2,
   "metadata": {},
   "outputs": [],
   "source": [
    "import numpy as np"
   ]
  },
  {
   "cell_type": "markdown",
   "metadata": {},
   "source": [
    "The Simplest form of regression is \n",
    "\n",
    "$$y = x*w + b$$\n",
    "\n",
    "Where,\n",
    "* y = dependent variable\n",
    "* b = constant\n",
    "* w = slope\n",
    "* x = independent variable"
   ]
  },
  {
   "cell_type": "markdown",
   "metadata": {},
   "source": [
    "#### 1. `Understnading the loss function`"
   ]
  },
  {
   "cell_type": "markdown",
   "metadata": {},
   "source": [
    "Here we are going to use the Mean Square Error loss function\n",
    "$$\n",
    "MSE = J(w, b) = \\frac{1}{n}\\sum_{i=1}^{n}(y_i - \\hat{y_i})^2\n",
    "$$\n",
    "\n",
    "The goal is to minimise MSE to find the optimal slope and intercept"
   ]
  },
  {
   "cell_type": "markdown",
   "metadata": {},
   "source": [
    "#### 2. `Optimization Algorithm (Gradient Descent)`\n",
    "\n",
    "Using gradient descent we iteratively calculate the gradients of the loss function with\n",
    "respect to the parameters and keep on updating the parameters till we reach the local minima."
   ]
  },
  {
   "cell_type": "markdown",
   "metadata": {},
   "source": [
    "#### 3. `Steps to Implement Gradient Descent`\n",
    "\n",
    "* Step 1: `Initialising Parameters`:\n",
    " \n",
    "Initialise the slope = np.zeros(number of features) and intercept = 0\n",
    "\n",
    "* Step 2: `Calculate the Partial Derivatives with recpect to parameters`:\n",
    "\n",
    "$$\\frac{\\delta J}{\\delta w} = \\delta w = \\frac{1}{N} \\sum_{i=1}^{N} 2x_i(\\hat{y} - y_i)$$\n",
    "\n",
    "$$\\frac{\\delta J}{\\delta b} = \\delta b =\\frac{1}{N} \\sum_{i=1}^{N} 2(\\hat{y} - y_i)$$\n",
    "\n",
    "where,\n",
    "$$y_{predicted} = \\hat{y} = x_iw + b$$\n",
    "\n",
    "* Step 3: `Updating the Parameters`\n",
    "\n",
    "$$w = w - Lr * \\delta w$$\n",
    "$$b = b - Lr * \\delta b$$"
   ]
  },
  {
   "cell_type": "markdown",
   "metadata": {},
   "source": [
    "#### 4. `Implementing Linear Regression from Scratch in Python`"
   ]
  },
  {
   "cell_type": "code",
   "execution_count": 18,
   "metadata": {},
   "outputs": [],
   "source": [
    "import numpy as np\n",
    "\n",
    "class LinearRegression:\n",
    "    def __init__(self, lr, n_iter):\n",
    "        self.lr = lr\n",
    "        self.n_iter = n_iter\n",
    "        \n",
    "    def fit(self, x, y):\n",
    "        # m = number of training samples\n",
    "        # n = number of features\n",
    "        self.n_samples, self.n_features = x.shape\n",
    "        self.x = x\n",
    "        self.y = y  \n",
    "        self.w = np.zeros(self.n_features)\n",
    "        self.b = 0\n",
    "         \n",
    "        for i in range(self.n_iter):\n",
    "            y_predicted = self.predict(self.x)\n",
    "            \n",
    "            # calculate gradients\n",
    "            dw = (1/self.n_samples) * 2*np.dot(self.x.T, (y_predicted - self.y))\n",
    "            db = (1/self.n_samples) * 2*np.sum(y_predicted - self.y)\n",
    "            \n",
    "            # Update weights\n",
    "            self.w = self.w - self.lr * dw\n",
    "            self.b = self.b - self.lr * db            \n",
    "            \n",
    "    def predict(self, x):\n",
    "        return np.dot(self.x, self.w) + self.b "
   ]
  },
  {
   "cell_type": "markdown",
   "metadata": {},
   "source": [
    "#### Predicting using linear regression"
   ]
  },
  {
   "cell_type": "code",
   "execution_count": 19,
   "metadata": {},
   "outputs": [
    {
     "name": "stdout",
     "output_type": "stream",
     "text": [
      "Slope: [8664.52 4187.9 ] and Intercept: 23518.88\n"
     ]
    }
   ],
   "source": [
    "import pandas as pd\n",
    "from sklearn.model_selection import train_test_split\n",
    "import matplotlib.pyplot as plt\n",
    "\n",
    "df = pd.read_csv(\"dataset.csv\")\n",
    "df[\"x1\"]  = np.log(df.loc[:,\"YearsExperience\"])\n",
    "x = df.loc[:,[\"YearsExperience\", \"x1\"]].values\n",
    "y = df.loc[:,\"Salary\"].values\n",
    "      \n",
    "# Model training\n",
    "model = LinearRegression(n_iter= 1000, lr = 0.01 )\n",
    "model.fit(x, y)\n",
    "print(f\"Slope: {np.round(model.w, 2)} and Intercept: {np.round(model.b, 2)}\")      \n"
   ]
  },
  {
   "cell_type": "code",
   "execution_count": 20,
   "metadata": {},
   "outputs": [
    {
     "data": {
      "text/plain": [
       "array([ 33449.0040284 ,  35881.51370965,  38213.70964662,  43750.75328146,\n",
       "        45882.8067648 ,  53104.89229637,  54113.32061471,  56116.50551215,\n",
       "        56116.50551215,  61056.7733359 ,  63010.14406891,  63982.62453916,\n",
       "        63982.62453916,  64952.4867545 ,  68808.14823757,  72630.58873463,\n",
       "        74531.03113484,  76425.02813388,  82072.87388663,  83009.71245163,\n",
       "        90465.49946474,  93245.65631613, 100624.40623312, 103379.85122855,\n",
       "       107959.98850913, 110701.32094331, 115260.00927258, 116170.31407244,\n",
       "       122530.22611732, 124343.66922664])"
      ]
     },
     "execution_count": 20,
     "metadata": {},
     "output_type": "execute_result"
    }
   ],
   "source": [
    "# Prediction on test set\n",
    "y_pred = model.predict(x)\n",
    "y_pred"
   ]
  },
  {
   "cell_type": "code",
   "execution_count": 21,
   "metadata": {},
   "outputs": [
    {
     "data": {
      "text/plain": [
       "Text(0, 0.5, 'Salary')"
      ]
     },
     "execution_count": 21,
     "metadata": {},
     "output_type": "execute_result"
    },
    {
     "data": {
      "image/png": "[encoded data removed]",
      "text/plain": [
       "<Figure size 576x432 with 1 Axes>"
      ]
     },
     "metadata": {
      "needs_background": "light"
     },
     "output_type": "display_data"
    }
   ],
   "source": [
    "# Plotting fitted regression line for `YearsExperience``\n",
    "fig, ax = plt.subplots(figsize=(8, 6))\n",
    "ax.scatter(df[\"YearsExperience\"], y, color = 'blue')\n",
    "ax.plot(df[\"YearsExperience\"], y_pred, color = 'orange')\n",
    "ax.set_title('Salary vs Experience')\n",
    "ax.set_xlabel('Years of Experience')\n",
    "ax.set_ylabel('Salary')\n"
   ]
  },
  {
   "cell_type": "code",
   "execution_count": null,
   "metadata": {},
   "outputs": [],
   "source": []
  }
 ],
 "metadata": {
  "kernelspec": {
   "display_name": "Python 3.9.12 ('datascience')",
   "language": "python",
   "name": "python3"
  },
  "language_info": {
   "codemirror_mode": {
    "name": "ipython",
    "version": 3
   },
   "file_extension": ".py",
   "mimetype": "text/x-python",
   "name": "python",
   "nbconvert_exporter": "python",
   "pygments_lexer": "ipython3",
   "version": "3.9.12"
  },
  "orig_nbformat": 4,
  "vscode": {
   "interpreter": {
    "hash": "2b0682c63ccf40119d03593b7cd5298f348ffaf8e13faf844cf14e5e4e7e25a8"
   }
  }
 },
 "nbformat": 4,
 "nbformat_minor": 2
}
