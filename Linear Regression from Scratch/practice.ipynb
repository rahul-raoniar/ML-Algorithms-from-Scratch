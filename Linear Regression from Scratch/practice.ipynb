{
 "cells": [
  {
   "cell_type": "markdown",
   "metadata": {},
   "source": [
    "#### Loading libraries"
   ]
  },
  {
   "cell_type": "code",
   "execution_count": 1,
   "metadata": {},
   "outputs": [],
   "source": [
    "import numpy as np\n",
    "from sklearn.model_selection import train_test_split\n",
    "from sklearn import datasets\n",
    "import matplotlib.pyplot as plt"
   ]
  },
  {
   "cell_type": "markdown",
   "metadata": {},
   "source": [
    "### Building Linear Regression Class"
   ]
  },
  {
   "cell_type": "code",
   "execution_count": 2,
   "metadata": {},
   "outputs": [],
   "source": [
    "class LinearRegression:\n",
    "    def __init__(self, lr = 0.001, n_iters = 1000):\n",
    "        self.lr = lr\n",
    "        self.n_iters = n_iters\n",
    "        self.weight = None\n",
    "        self.bias = None\n",
    "       \n",
    "    def fit(self, X, y):\n",
    "        n_samples, n_features = X.shape\n",
    "        self.weight = np.zeros(n_features)\n",
    "        self.bias = 0\n",
    "        \n",
    "        for _ in range(self.n_iters):\n",
    "            y_predicted = np.dot(X, self.weight) + self.bias\n",
    "            \n",
    "            #gradients\n",
    "            dw = (1/n_samples) * (2 * np.dot(X.T, (y_predicted - y)))\n",
    "            db = (1/n_samples) * (2 * sum(y_predicted - y))\n",
    "            \n",
    "            # weight adjustment\n",
    "            self.weight -= self.lr * dw\n",
    "            self.bias -= self.lr * db\n",
    "              \n",
    "    def predict(self, x):\n",
    "        y_approximated = np.dot(x, self.weight) + self.bias\n",
    "        return y_approximated"
   ]
  },
  {
   "cell_type": "markdown",
   "metadata": {},
   "source": [
    "### Testing the Linear Model Algorithm"
   ]
  },
  {
   "cell_type": "code",
   "execution_count": 3,
   "metadata": {},
   "outputs": [
    {
     "name": "stdout",
     "output_type": "stream",
     "text": [
      "r2: 0.9183195515079544\n"
     ]
    }
   ],
   "source": [
    "X, y = datasets.make_regression(n_samples=500,\n",
    "                                n_features=1,\n",
    "                                noise=20,\n",
    "                                random_state=4)\n",
    "\n",
    "X_train, X_test, y_train, y_test = train_test_split(X,\n",
    "                                                    y,\n",
    "                                                    test_size=0.2,\n",
    "                                                    random_state=44)\n",
    "\n",
    "regressor = LinearRegression(lr = 0.01, n_iters=1000)\n",
    "regressor.fit(X_train, y_train)\n",
    "\n",
    "\n",
    "def r2_score(y_true, y_pred):\n",
    "    corr_matrix = np.corrcoef(y_true, y_pred)\n",
    "    corr = corr_matrix[0, 1]\n",
    "    return corr ** 2\n",
    "\n",
    "predictions = regressor.predict(X_test)\n",
    "accu = r2_score(y_test, predictions)\n",
    "print(\"r2:\", accu)\n",
    "\n",
    "y_pred_line = regressor.predict(X)"
   ]
  },
  {
   "cell_type": "code",
   "execution_count": 4,
   "metadata": {},
   "outputs": [
    {
     "data": {
      "text/plain": [
       "[<matplotlib.lines.Line2D at 0x21b4fe85760>]"
      ]
     },
     "execution_count": 4,
     "metadata": {},
     "output_type": "execute_result"
    },
    {
     "data": {
      "image/png": "[encoded data removed]",
      "text/plain": [
       "<Figure size 576x288 with 1 Axes>"
      ]
     },
     "metadata": {
      "needs_background": "light"
     },
     "output_type": "display_data"
    }
   ],
   "source": [
    "fig, ax = plt.subplots(figsize = (8, 4))\n",
    "ax.scatter(X_train, y_train, color = \"blue\")\n",
    "ax.scatter(X_test, y_test, color = \"green\")\n",
    "ax.plot(X, y_pred_line, color = \"red\")"
   ]
  },
  {
   "cell_type": "code",
   "execution_count": null,
   "metadata": {},
   "outputs": [],
   "source": []
  }
 ],
 "metadata": {
  "kernelspec": {
   "display_name": "Python 3.9.12 ('datascience')",
   "language": "python",
   "name": "python3"
  },
  "language_info": {
   "codemirror_mode": {
    "name": "ipython",
    "version": 3
   },
   "file_extension": ".py",
   "mimetype": "text/x-python",
   "name": "python",
   "nbconvert_exporter": "python",
   "pygments_lexer": "ipython3",
   "version": "3.9.12"
  },
  "orig_nbformat": 4,
  "vscode": {
   "interpreter": {
    "hash": "2b0682c63ccf40119d03593b7cd5298f348ffaf8e13faf844cf14e5e4e7e25a8"
   }
  }
 },
 "nbformat": 4,
 "nbformat_minor": 2
}
