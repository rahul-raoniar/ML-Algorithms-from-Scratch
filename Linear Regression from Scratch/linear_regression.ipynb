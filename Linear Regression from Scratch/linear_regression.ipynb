{
 "cells": [
  {
   "cell_type": "markdown",
   "metadata": {},
   "source": [
    "### Linear Regression Algorithm"
   ]
  },
  {
   "cell_type": "markdown",
   "metadata": {},
   "source": [
    "The Simplest form of regression is \n",
    "\n",
    "$$y = x*w + b$$\n",
    "\n",
    "Where,\n",
    "* y = dependent variable\n",
    "* b = constant\n",
    "* w = slope\n",
    "* x = independent variable"
   ]
  },
  {
   "cell_type": "markdown",
   "metadata": {},
   "source": [
    "#### 1. `Understnading the loss function`"
   ]
  },
  {
   "cell_type": "markdown",
   "metadata": {},
   "source": [
    "Here we are going to use the Mean Square Error loss function\n",
    "$$\n",
    "MSE = J(w, b) = \\frac{1}{n}\\sum_{i=1}^{n}(y_i - \\hat{y_i})^2\n",
    "$$\n",
    "\n",
    "The goal is to minimise MSE to find the optimal weights (slopes) and bias (intercept)"
   ]
  },
  {
   "cell_type": "markdown",
   "metadata": {},
   "source": [
    "#### 2. `Optimization Algorithm (Gradient Descent)`\n",
    "\n",
    "Using gradient descent we iteratively calculate the gradients of the loss function with\n",
    "respect to the parameters and keep on updating the parameters till we reach the local minima."
   ]
  },
  {
   "cell_type": "markdown",
   "metadata": {},
   "source": [
    "#### 3. `Steps to Implement Gradient Descent`\n",
    "\n",
    "* Step 1: `Initialising Parameters`:\n",
    " \n",
    "Initialise the slope = np.zeros(number of features) and intercept = 0\n",
    "\n",
    "* Step 2: `Calculate the Partial Derivatives with recpect to parameters`:\n",
    "\n",
    "$$y_{predicted}\\,(\\hat{y_i}) = x_iw + b$$\n",
    "\n",
    "$$\\frac{\\delta J}{\\delta w} = \\delta w = \\frac{1}{N} \\sum_{i=1}^{N} 2x_i(\\hat{y} - y_i)$$\n",
    "\n",
    "$$\\frac{\\delta J}{\\delta b} = \\delta b =\\frac{1}{N} \\sum_{i=1}^{N} 2(\\hat{y} - y_i)$$\n",
    "\n",
    "* Step 3: `Updating the Parameters`\n",
    "\n",
    "$$w = w - Lr * \\delta w$$\n",
    "$$b = b - Lr * \\delta b$$"
   ]
  },
  {
   "cell_type": "markdown",
   "metadata": {},
   "source": [
    "#### 4. `Implementing Linear Regression from Scratch in Python`"
   ]
  },
  {
   "cell_type": "code",
   "execution_count": 1,
   "metadata": {},
   "outputs": [],
   "source": [
    "import numpy as np\n",
    "from sklearn.model_selection import train_test_split\n",
    "from sklearn import datasets\n",
    "import matplotlib.pyplot as plt"
   ]
  },
  {
   "cell_type": "code",
   "execution_count": 2,
   "metadata": {},
   "outputs": [],
   "source": [
    "# define class\n",
    "class LinearRegression:\n",
    "    def __init__(self, lr=0.001, n_iters=1000):\n",
    "        self.lr = lr\n",
    "        self.n_iters = n_iters\n",
    "        self.weights = None\n",
    "        self.bias = None\n",
    "\n",
    "    # define fit method\n",
    "    def fit(self, X, y):\n",
    "        n_samples, n_features = X.shape\n",
    "\n",
    "        # init parameters\n",
    "        self.weights = np.zeros(n_features)\n",
    "        self.bias = 0\n",
    "\n",
    "        # gradient descent\n",
    "        for _ in range(self.n_iters):\n",
    "            y_predicted = np.dot(X, self.weights) + self.bias\n",
    "            \n",
    "            # compute gradients\n",
    "            dw = (1 / n_samples) * (2 * np.dot(X.T, (y_predicted - y)))\n",
    "            db = (1 / n_samples) * (2 * np.sum(y_predicted - y))\n",
    "\n",
    "            # update parameters\n",
    "            self.weights -= self.lr * dw\n",
    "            self.bias -= self.lr * db\n",
    "\n",
    "    # predict y values\n",
    "    def predict(self, X):\n",
    "        y_approximated = np.dot(X, self.weights) + self.bias\n",
    "        return y_approximated"
   ]
  },
  {
   "cell_type": "markdown",
   "metadata": {},
   "source": [
    "#### Predicting using linear regression"
   ]
  },
  {
   "cell_type": "code",
   "execution_count": 3,
   "metadata": {},
   "outputs": [
    {
     "name": "stdout",
     "output_type": "stream",
     "text": [
      "MSE: 305.7741316085243\n",
      "r2: 0.9253717934621971\n"
     ]
    },
    {
     "data": {
      "image/png": "[encoded data removed]",
      "text/plain": [
       "<Figure size 576x432 with 1 Axes>"
      ]
     },
     "metadata": {
      "needs_background": "light"
     },
     "output_type": "display_data"
    }
   ],
   "source": [
    "# mean squared error\n",
    "def mean_squared_error(y_true, y_pred):\n",
    "        return np.mean((y_true - y_pred) ** 2)\n",
    "\n",
    "# Coefficient of determination (R^2)   \n",
    "def r2_score(y_true, y_pred):\n",
    "    corr_matrix = np.corrcoef(y_true, y_pred)\n",
    "    corr = corr_matrix[0, 1]\n",
    "    return corr ** 2\n",
    "\n",
    "# Generating synthetic data\n",
    "X, y = datasets.make_regression(n_samples=100,\n",
    "                                n_features=1,\n",
    "                                noise=20,\n",
    "                                random_state=4)\n",
    "# Train test split\n",
    "X_train, X_test, y_train, y_test = train_test_split(X,\n",
    "                                                    y,\n",
    "                                                    test_size=0.2,\n",
    "                                                    random_state=1234)\n",
    "# Instantiating and fitting model\n",
    "regressor = LinearRegression(lr=0.01, n_iters=1000)\n",
    "regressor.fit(X_train, y_train)\n",
    "predictions = regressor.predict(X_test)\n",
    "\n",
    "# MSE and R-square \n",
    "mse = mean_squared_error(y_test, predictions)\n",
    "r2 = r2_score(y_test, predictions)\n",
    "print(\"MSE:\", mse)\n",
    "print(\"r2:\", r2)\n",
    "\n",
    "# prediction on full dataset\n",
    "y_pred_line = regressor.predict(X)\n",
    "\n",
    "# Plotting regresion line\n",
    "fig, ax = plt.subplots(figsize = (8, 6))\n",
    "ax.scatter(X_train, y_train, color=\"blue\", s=20)\n",
    "ax.scatter(X_test, y_test, color=\"red\", s=20)\n",
    "plt.plot(X, y_pred_line, color=\"blue\", linewidth=1, label=\"Prediction\")\n",
    "plt.show()    \n"
   ]
  },
  {
   "cell_type": "code",
   "execution_count": null,
   "metadata": {},
   "outputs": [],
   "source": []
  }
 ],
 "metadata": {
  "kernelspec": {
   "display_name": "Python 3.9.12 ('datascience')",
   "language": "python",
   "name": "python3"
  },
  "language_info": {
   "codemirror_mode": {
    "name": "ipython",
    "version": 3
   },
   "file_extension": ".py",
   "mimetype": "text/x-python",
   "name": "python",
   "nbconvert_exporter": "python",
   "pygments_lexer": "ipython3",
   "version": "3.9.12"
  },
  "orig_nbformat": 4,
  "vscode": {
   "interpreter": {
    "hash": "2b0682c63ccf40119d03593b7cd5298f348ffaf8e13faf844cf14e5e4e7e25a8"
   }
  }
 },
 "nbformat": 4,
 "nbformat_minor": 2
}
