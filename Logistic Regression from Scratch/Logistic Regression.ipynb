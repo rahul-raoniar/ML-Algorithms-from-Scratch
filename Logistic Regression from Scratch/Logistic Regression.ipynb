{
 "cells": [
  {
   "cell_type": "markdown",
   "metadata": {},
   "source": [
    "#### 1. `Understanding the Loss Function`\n",
    "Here we are going to use the log loss function\n",
    "\n",
    "$$\\sigma = \\frac{1}{1-\\exp^{(-x)}}$$\n",
    "$$\\hat{y_i} = \\sigma(w*X^T + b)$$\n",
    " $$J(w, b) = J(\\theta) = -\\frac{1}{N}\\sum_{i=1}^{N}y_i*log(\\hat{y_i}) + (1 - y_i)*log(1 - \\hat{y_i})$$\n",
    "\n",
    "The goal is to minimise log loss to find the optimal slope and intercept\n"
   ]
  },
  {
   "cell_type": "markdown",
   "metadata": {},
   "source": [
    "#### 2. `Optimization Algorithm (Gradient Descent)`\n",
    "\n",
    "Using gradient descent we iteratively calculate the gradients of the loss function with\n",
    "respect to the parameters and keep on updating the parameters till we reach the local minima."
   ]
  },
  {
   "cell_type": "markdown",
   "metadata": {},
   "source": [
    "#### 3. `Steps to Implement Gradient Descent`\n",
    "\n",
    "* Step 1: `Initialising Parameters`:\n",
    " \n",
    "Initialise the `weights` = np.zeros(number of features) and `bias` = 0\n",
    "\n",
    "* Step 2: `Calculate the Partial Derivatives with recpect to parameters`:\n",
    "\n",
    "$$\\sigma = \\frac{1}{1-\\exp^{(-x)}}$$\n",
    "\n",
    "$$y_{predicted}\\,(\\hat{y_i}) = \\sigma(w*X^T + b)$$\n",
    "\n",
    "$$\\frac{\\delta J}{\\delta w} = \\delta w = \\frac{1}{N} \\sum_{i=1}^{N} 2x_i(\\hat{y} - y_i)$$\n",
    "\n",
    "$$\\frac{\\delta J}{\\delta b} = \\delta b =\\frac{1}{N} \\sum_{i=1}^{N} 2(\\hat{y} - y_i)$$\n",
    "\n",
    "* Step 3: `Updating the Parameters`\n",
    "\n",
    "$$w = w - Lr * \\delta w$$\n",
    "$$b = b - Lr * \\delta b$$"
   ]
  },
  {
   "cell_type": "code",
   "execution_count": null,
   "metadata": {},
   "outputs": [],
   "source": []
  },
  {
   "cell_type": "code",
   "execution_count": 3,
   "metadata": {},
   "outputs": [],
   "source": [
    "import numpy as np\n",
    "from sklearn.model_selection import train_test_split\n",
    "from sklearn import datasets\n",
    "import matplotlib.pyplot as plt"
   ]
  },
  {
   "cell_type": "code",
   "execution_count": 4,
   "metadata": {},
   "outputs": [],
   "source": [
    "class LogisticRegression:\n",
    "    def __init__(self, lr=0.001, n_iters=1000):\n",
    "        self.lr = lr\n",
    "        self.n_iters = n_iters\n",
    "        self.weights = None\n",
    "        self.bias = None\n",
    "\n",
    "    def fit(self, X, y):\n",
    "        n_samples, n_features = X.shape\n",
    "\n",
    "        # init parameters\n",
    "        self.weights = np.zeros(n_features)\n",
    "        self.bias = 0\n",
    "\n",
    "        # gradient descent\n",
    "        for _ in range(self.n_iters):\n",
    "            \n",
    "            # approximate y with linear combination of weights and x, plus bias\n",
    "            linear_model = np.dot(X, self.weights) + self.bias\n",
    "            \n",
    "            # apply sigmoid function\n",
    "            y_predicted = self._sigmoid(linear_model)\n",
    "\n",
    "            # compute gradients\n",
    "            dw = (1 / n_samples) * np.dot(X.T, (y_predicted - y))\n",
    "            db = (1 / n_samples) * np.sum(y_predicted - y)\n",
    "            \n",
    "            # update parameters\n",
    "            self.weights -= self.lr * dw\n",
    "            self.bias -= self.lr * db\n",
    "\n",
    "    def predict(self, X):\n",
    "        linear_model = np.dot(X, self.weights) + self.bias\n",
    "        y_predicted = self._sigmoid(linear_model)\n",
    "        y_predicted_cls = [1 if i > 0.5 else 0 for i in y_predicted]\n",
    "        return np.array(y_predicted_cls)\n",
    "\n",
    "    def _sigmoid(self, x):\n",
    "        return 1 / (1 + np.exp(-x))\n"
   ]
  },
  {
   "cell_type": "code",
   "execution_count": 5,
   "metadata": {},
   "outputs": [
    {
     "name": "stdout",
     "output_type": "stream",
     "text": [
      "LR classification accuracy: 0.9298245614035088\n"
     ]
    }
   ],
   "source": [
    "def accuracy(y_true, y_pred):\n",
    "        accuracy = np.sum(y_true == y_pred) / len(y_true)\n",
    "        return accuracy\n",
    "\n",
    "bc = datasets.load_breast_cancer()\n",
    "X, y = bc.data, bc.target\n",
    "\n",
    "X_train, X_test, y_train, y_test = train_test_split(X,\n",
    "                                                    y,\n",
    "                                                    test_size=0.2,\n",
    "                                                    random_state=1234)\n",
    "\n",
    "regressor = LogisticRegression(lr = 0.0001, n_iters = 1000)\n",
    "regressor.fit(X_train, y_train)\n",
    "predictions = regressor.predict(X_test)\n",
    "\n",
    "print(\"LR classification accuracy:\", accuracy(y_test, predictions))"
   ]
  },
  {
   "cell_type": "code",
   "execution_count": null,
   "metadata": {},
   "outputs": [],
   "source": []
  },
  {
   "cell_type": "code",
   "execution_count": null,
   "metadata": {},
   "outputs": [],
   "source": []
  },
  {
   "cell_type": "code",
   "execution_count": null,
   "metadata": {},
   "outputs": [],
   "source": []
  }
 ],
 "metadata": {
  "kernelspec": {
   "display_name": "Python 3.9.12 ('datascience')",
   "language": "python",
   "name": "python3"
  },
  "language_info": {
   "codemirror_mode": {
    "name": "ipython",
    "version": 3
   },
   "file_extension": ".py",
   "mimetype": "text/x-python",
   "name": "python",
   "nbconvert_exporter": "python",
   "pygments_lexer": "ipython3",
   "version": "3.9.12"
  },
  "orig_nbformat": 4,
  "vscode": {
   "interpreter": {
    "hash": "2b0682c63ccf40119d03593b7cd5298f348ffaf8e13faf844cf14e5e4e7e25a8"
   }
  }
 },
 "nbformat": 4,
 "nbformat_minor": 2
}
